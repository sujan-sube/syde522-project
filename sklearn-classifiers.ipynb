{
 "cells": [
  {
   "cell_type": "code",
   "execution_count": 1,
   "metadata": {
    "collapsed": false
   },
   "outputs": [],
   "source": [
    "import numpy as np\n",
    "import pandas\n",
    "import sklearn\n",
    "from sklearn.metrics import accuracy_score\n",
    "from sklearn.metrics import confusion_matrix\n",
    "from sklearn.metrics import precision_score\n",
    "from sklearn.model_selection import train_test_split, KFold\n",
    "from sklearn.tree import DecisionTreeClassifier\n",
    "from sklearn.naive_bayes import GaussianNB\n",
    "from sklearn.linear_model import LogisticRegression\n",
    "from sklearn.svm import SVC\n",
    "from sklearn.ensemble import RandomForestClassifier, AdaBoostClassifier, VotingClassifier\n",
    "from sklearn.neighbors import KNeighborsClassifier\n",
    "from sklearn.naive_bayes import BernoulliNB\n",
    "from sklearn.naive_bayes import MultinomialNB\n",
    "from sklearn.neural_network import MLPClassifier\n",
    "from sklearn.gaussian_process import GaussianProcessClassifier\n",
    "from sklearn.discriminant_analysis import QuadraticDiscriminantAnalysis\n",
    "from sklearn.ensemble import GradientBoostingClassifier\n",
    "from sklearn.ensemble import BaggingClassifier\n",
    "import matplotlib.pyplot as plt"
   ]
  },
  {
   "cell_type": "code",
   "execution_count": 2,
   "metadata": {
    "collapsed": false
   },
   "outputs": [],
   "source": [
    "# import data from csv\n",
    "dataframe = pandas.read_csv('heart_full.csv',usecols = range(1,14), engine='python')\n",
    "# dataframe = pandas.read_csv('heart.csv',usecols = range(0,14), engine='python')\n",
    "# dataframe = pandas.read_csv('processed_cleveland.csv',usecols = range(0,14), engine='python')\n",
    "dataset = dataframe.values\n",
    "\n",
    "# seperate male\n",
    "male_dataset = dataframe.loc[dataframe['sex'] == 0].values\n",
    "\n",
    "# seperate female\n",
    "female_dataset = dataframe.loc[dataframe['sex'] == 1].values\n",
    "\n",
    "dataset = female_dataset\n"
   ]
  },
  {
   "cell_type": "code",
   "execution_count": 3,
   "metadata": {
    "collapsed": false
   },
   "outputs": [],
   "source": [
    "# shuffle dataset\n",
    "np.random.shuffle(dataset)\n",
    "\n",
    "# find col length\n",
    "num_cols = dataset.shape[1]\n",
    "\n",
    "# divide data (X) and targets (Y)\n",
    "X = np.delete(dataset, obj=num_cols-1, axis=1)\n",
    "Y = dataset[:,num_cols-1]\n",
    "\n",
    "# normalize data (X)\n",
    "X = sklearn.preprocessing.normalize(X, norm='l1', axis=0)\n"
   ]
  },
  {
   "cell_type": "code",
   "execution_count": 4,
   "metadata": {
    "collapsed": false
   },
   "outputs": [],
   "source": [
    "# method to calculate accuracy\n",
    "def calcAccuracy(actual, predicted):\n",
    "#     correct = 0\n",
    "#     for i in range(0, len(actual)):\n",
    "#         if actual[i] == predicted[i]:\n",
    "#             correct += 1\n",
    "#         print \"Actual: {0} Predicted: {1}\".format(actual[i], predicted[i])\n",
    "#     return precision_score(actual, predicted)\n",
    "#     return confusion_matrix(actual, predicted)\n",
    "    return accuracy_score(actual, predicted, normalize = True)\n",
    "\n",
    "\n",
    "# method to test train/test split by percentage\n",
    "def splitByPercentageValidation(param, train_size=0.7):\n",
    "    X_train, X_test, Y_train, Y_test = \\\n",
    "        train_test_split(X, Y, train_size = train_size, random_state=2017)\n",
    "\n",
    "    # run on test and train data\n",
    "    clf = buildClf(X_train, Y_train, param)\n",
    "    \n",
    "    predicted = clf.predict(X_test)    \n",
    "    test_accuracy = calcAccuracy(Y_test, predicted)\n",
    "    \n",
    "    predicted = clf.predict(X_train)\n",
    "    train_accuracy = calcAccuracy(Y_train, predicted)\n",
    "    \n",
    "    return train_accuracy, test_accuracy\n",
    "\n",
    "\n",
    "# method for k-fold cross validation\n",
    "def kFoldValidation(param, n_splits=10):\n",
    "    kFold = KFold(n_splits=n_splits)\n",
    "\n",
    "    # run on test data\n",
    "    test_results = []\n",
    "    train_results = []\n",
    "    for train_index, test_index in kFold.split(X):\n",
    "        X_train, X_test = X[train_index], X[test_index]\n",
    "        Y_train, Y_test = Y[train_index], Y[test_index]\n",
    "\n",
    "        # build classifier for each set\n",
    "        clf = buildClf(X_train, Y_train, param)\n",
    "        \n",
    "        predicted = clf.predict(X_test)\n",
    "        test_accuracy = calcAccuracy(Y_test, predicted)\n",
    "        \n",
    "        predicted = clf.predict(X_train)\n",
    "        train_accuracy = calcAccuracy(Y_train, predicted)\n",
    "        \n",
    "        test_results.append(test_accuracy)\n",
    "        train_results.append(train_accuracy)\n",
    "#     return train_accuracy, test_accuracy\n",
    "    return np.mean(train_results, axis = 0), np.mean(test_results, axis = 0)\n",
    "\n",
    "\n",
    "# method for leave one out cross validation\n",
    "def looValidation(param):\n",
    "    loo = sklearn.model_selection.LeaveOneOut()\n",
    "\n",
    "    # run on test data\n",
    "    test_results = []\n",
    "    train_results = []\n",
    "    for train_index, test_index in loo.split(X):\n",
    "        X_train, X_test = X[train_index], X[test_index]\n",
    "        Y_train, Y_test = Y[train_index], Y[test_index]\n",
    "\n",
    "        # build classifier for each set\n",
    "        clf = buildClf(X_train, Y_train, param)\n",
    "        \n",
    "        predicted = clf.predict(X_test)\n",
    "        test_accuracy = calcAccuracy(Y_test, predicted)\n",
    "        predicted = clf.predict(X_train)\n",
    "        train_accuracy = calcAccuracy(Y_train, predicted)\n",
    "#         print train_accuracy\n",
    "        test_results.append(test_accuracy)\n",
    "        train_results.append(train_accuracy)\n",
    "#     return train_accuracy, test_accuracy\n",
    "    return np.mean(train_results, axis = 0), np.mean(test_results, axis = 0)\n",
    "    "
   ]
  },
  {
   "cell_type": "code",
   "execution_count": 28,
   "metadata": {
    "collapsed": false
   },
   "outputs": [],
   "source": [
    "# method to build classifier\n",
    "def buildClf(train_data, train_target, param):\n",
    "#     clf = DecisionTreeClassifier(max_depth=)\n",
    "#     clf = GaussianNB()\n",
    "#     clf = LogisticRegression()\n",
    "#     clf = SVC()\n",
    "    clf = RandomForestClassifier(n_estimators = param)  # 50\n",
    "#     clf = KNeighborsClassifier(param)  # 10\n",
    "#     clf = MultinomialNB()\n",
    "#     clf = BernoulliNB()\n",
    "#     clf = GaussianProcessClassifier()\n",
    "#     clf = AdaBoostClassifier(n_estimators = param)  # 5\n",
    "#     clf = GradientBoostingClassifier(n_estimators = param)  # 5\n",
    "#     clf = QuadraticDiscriminantAnalysis()\n",
    "#     clf = MLPClassifier()\n",
    "#     clf = BaggingClassifier(QuadraticDiscriminantAnalysis(), max_samples=0.2, max_features=0.2)\n",
    "#     clf = BaggingClassifier(GaussianNB(), max_samples=0.7, max_features=0.8)\n",
    "\n",
    "\n",
    "    clf_1 = GaussianNB()\n",
    "#     clf_1 = BaggingClassifier(GaussianNB(), max_samples=0.7, max_features=0.8)\n",
    "    clf_2 = AdaBoostClassifier(n_estimators = param) # 5\n",
    "    clf_3 = BernoulliNB()\n",
    "#     clf = VotingClassifier(estimators=[('gnb', clf_1), ('ab', clf_2), ('bnb', clf_3)], voting='soft', weights = [1,2,1])\n",
    "#     clf = VotingClassifier(   estimators=[('gnb', clf_1), ('ab', clf_2), ('bnb', clf_3)], voting='hard')\n",
    "    \n",
    "    clf.fit(train_data, train_target)\n",
    "    return clf"
   ]
  },
  {
   "cell_type": "code",
   "execution_count": null,
   "metadata": {
    "collapsed": false
   },
   "outputs": [
    {
     "name": "stdout",
     "output_type": "stream",
     "text": [
      "1\n",
      "2\n",
      "3\n",
      "4\n"
     ]
    }
   ],
   "source": [
    "# results array format: [[train], [test]]\n",
    "splitByPercentageResults = [[],[]]\n",
    "kFoldResults = [[],[]]\n",
    "looResults = [[],[]]\n",
    "\n",
    "# run iterations\n",
    "x = range(1, 100)\n",
    "for param in x:\n",
    "    print param\n",
    "#     splitByPercentage_train, splitByPercentage_test = splitByPercentageValidation(param, 0.85)\n",
    "#     kFold_train, kFold_test = kFoldValidation(param, 5)\n",
    "    loo_train, loo_test = looValidation(param)\n",
    "    \n",
    "#     splitByPercentageResults[0].append(1-splitByPercentage_train)\n",
    "#     splitByPercentageResults[1].append(1-splitByPercentage_test)\n",
    "    \n",
    "#     kFoldResults[0].append(1-kFold_train)\n",
    "#     kFoldResults[1].append(1-kFold_test)\n",
    "    \n",
    "    looResults[0].append(1-loo_train)\n",
    "    looResults[1].append(1-loo_test)\n"
   ]
  },
  {
   "cell_type": "code",
   "execution_count": 27,
   "metadata": {
    "collapsed": false
   },
   "outputs": [
    {
     "data": {
      "image/png": "[encoded data removed]",
      "text/plain": [
       "<matplotlib.figure.Figure at 0x7f4f8e8f5a90>"
      ]
     },
     "metadata": {},
     "output_type": "display_data"
    }
   ],
   "source": [
    "# plot graph\n",
    "fig = plt.figure(figsize=(15,10))\n",
    "plt.xlabel('Parameter (# classifiers)')\n",
    "plt.ylabel('Error')\n",
    "plt.title('Random Forest Classifier (Leave One Out)')\n",
    "plt.plot(x, looResults[0], color='r', label='test')\n",
    "plt.plot(x, looResults[1], color='b', label='train')\n",
    "# plt.xticks(x)\n",
    "plt.legend()\n",
    "plt.show()"
   ]
  },
  {
   "cell_type": "code",
   "execution_count": null,
   "metadata": {
    "collapsed": false
   },
   "outputs": [],
   "source": [
    "param = 8\n",
    "\n",
    "splitByPercentage_train, splitByPercentage_test = splitByPercentageValidation(param, 0.85)\n",
    "kFold_train, kFold_test = kFoldValidation(param, 5)\n",
    "loo_train, loo_test = looValidation(param)\n",
    "\n",
    "print \"-----Train-----\"\n",
    "print \"Split by % Accuracy: {}\".format(splitByPercentage_train)\n",
    "print \"K-Fold Accuracy: {}\".format(kFold_train)\n",
    "print \"Leave-One-Out Accuracy: {}\".format(loo_train)\n",
    "\n",
    "print \"-----Test-----\"\n",
    "print \"Split by % Accuracy: {}\".format(splitByPercentage_test)\n",
    "print \"K-Fold Accuracy: {}\".format(kFold_test)\n",
    "print \"Leave-One-Out Accuracy: {}\".format(loo_test)"
   ]
  },
  {
   "cell_type": "code",
   "execution_count": null,
   "metadata": {
    "collapsed": false
   },
   "outputs": [],
   "source": [
    "# visualize the decision tree\n",
    "# from: http://scikit-learn.org/stable/modules/tree.html\n",
    "\n",
    "# import pydotplus \n",
    "# dot_data = tree.export_graphviz(clf, out_file=None) \n",
    "# graph = pydotplus.graph_from_dot_data(dot_data) \n",
    "# graph.write_pdf(\"decision-tree.pdf\") \n"
   ]
  }
 ],
 "metadata": {
  "anaconda-cloud": {},
  "kernelspec": {
   "display_name": "Python 2",
   "language": "python",
   "name": "python2"
  },
  "language_info": {
   "codemirror_mode": {
    "name": "ipython",
    "version": 2
   },
   "file_extension": ".py",
   "mimetype": "text/x-python",
   "name": "python",
   "nbconvert_exporter": "python",
   "pygments_lexer": "ipython2",
   "version": "2.7.13"
  }
 },
 "nbformat": 4,
 "nbformat_minor": 2
}
