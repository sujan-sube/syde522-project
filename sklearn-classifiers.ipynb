{
 "cells": [
  {
   "cell_type": "code",
   "execution_count": 1,
   "metadata": {
    "collapsed": false
   },
   "outputs": [],
   "source": [
    "import numpy as np\n",
    "import pandas\n",
    "import sklearn\n",
    "from sklearn.metrics import accuracy_score\n",
    "from sklearn.metrics import confusion_matrix\n",
    "from sklearn.metrics import precision_score\n",
    "from sklearn.model_selection import train_test_split, KFold\n",
    "from sklearn.tree import DecisionTreeClassifier\n",
    "from sklearn.naive_bayes import GaussianNB\n",
    "from sklearn.linear_model import LogisticRegression\n",
    "from sklearn.svm import SVC\n",
    "from sklearn.ensemble import RandomForestClassifier, AdaBoostClassifier, VotingClassifier\n",
    "from sklearn.neighbors import KNeighborsClassifier\n",
    "from sklearn.naive_bayes import BernoulliNB\n",
    "from sklearn.naive_bayes import MultinomialNB\n",
    "from sklearn.neural_network import MLPClassifier\n",
    "from sklearn.gaussian_process import GaussianProcessClassifier\n",
    "from sklearn.discriminant_analysis import QuadraticDiscriminantAnalysis\n",
    "from sklearn.ensemble import GradientBoostingClassifier\n",
    "from sklearn.ensemble import BaggingClassifier"
   ]
  },
  {
   "cell_type": "code",
   "execution_count": 127,
   "metadata": {
    "collapsed": false
   },
   "outputs": [
    {
     "name": "stdout",
     "output_type": "stream",
     "text": [
      "183\n"
     ]
    }
   ],
   "source": [
    "# import data from csv\n",
    "dataframe = pandas.read_csv('heart.csv',usecols = range(0,14), engine='python')\n",
    "dataset = dataframe.values\n",
    "\n",
    "# seperate male\n",
    "dataset = dataframe.loc[dataframe['sex'] == 1].values\n",
    "\n",
    "print len(dataset)\n",
    "# dataset = dataframe.loc[dataframe['exercise induced angina'] == 0].values\n",
    "\n",
    "# seperate female\n",
    "# female_dataset = dataframe.loc[dataframe['sex'] == 1].values"
   ]
  },
  {
   "cell_type": "code",
   "execution_count": 124,
   "metadata": {
    "collapsed": true
   },
   "outputs": [],
   "source": [
    "# shuffle dataset\n",
    "np.random.shuffle(dataset)\n",
    "\n",
    "# divide data (X) and targets (Y)\n",
    "X = np.delete(dataset, obj=13, axis=1)\n",
    "Y = dataset[:,13]\n",
    "\n",
    "# normalize data (X)\n",
    "X = sklearn.preprocessing.normalize(X, norm='l1', axis=0)\n"
   ]
  },
  {
   "cell_type": "code",
   "execution_count": 120,
   "metadata": {
    "collapsed": false
   },
   "outputs": [],
   "source": [
    "# method to calculate accuracy\n",
    "def calcAccuracy(actual, predicted):\n",
    "#     correct = 0\n",
    "#     for i in range(0, len(actual)):\n",
    "#         if actual[i] == predicted[i]:\n",
    "#             correct += 1\n",
    "#         print \"Actual: {0} Predicted: {1}\".format(actual[i], predicted[i])\n",
    "#     return precision_score(actual, predicted)\n",
    "#     return confusion_matrix(actual, predicted)\n",
    "    return accuracy_score(actual, predicted, normalize = True)\n",
    "\n",
    "\n",
    "# method to test train/test split by percentage\n",
    "def splitByPercentageValidation(train_size=0.7):\n",
    "    X_train, X_test, Y_train, Y_test = \\\n",
    "        train_test_split(X, Y, train_size = train_size, random_state=2017)\n",
    "\n",
    "    # run on test and train data\n",
    "    clf = buildClf(X_train, Y_train)\n",
    "    \n",
    "    predicted = clf.predict(X_test)    \n",
    "    test_accuracy = calcAccuracy(Y_test, predicted)\n",
    "    \n",
    "    predicted = clf.predict(X_train)\n",
    "    train_accuracy = calcAccuracy(Y_train, predicted)\n",
    "    \n",
    "    return train_accuracy, test_accuracy\n",
    "\n",
    "\n",
    "# method for k-fold cross validation\n",
    "def kFoldValidation(n_splits=10):\n",
    "    kFold = KFold(n_splits=n_splits)\n",
    "\n",
    "    # run on test data\n",
    "    test_results = []\n",
    "    train_results = []\n",
    "    for train_index, test_index in kFold.split(X):\n",
    "        X_train, X_test = X[train_index], X[test_index]\n",
    "        Y_train, Y_test = Y[train_index], Y[test_index]\n",
    "\n",
    "        # build classifier for each set\n",
    "        clf = buildClf(X_train, Y_train)\n",
    "        \n",
    "        predicted = clf.predict(X_test)\n",
    "        test_accuracy = calcAccuracy(Y_test, predicted)\n",
    "        \n",
    "        predicted = clf.predict(X_train)\n",
    "        train_accuracy = calcAccuracy(Y_train, predicted)\n",
    "        \n",
    "        test_results.append(test_accuracy)\n",
    "        train_results.append(train_accuracy)\n",
    "#     return train_accuracy, test_accuracy\n",
    "    return np.mean(train_results, axis = 0), np.mean(test_results, axis = 0)\n",
    "\n",
    "\n",
    "# method for leave one out cross validation\n",
    "def looValidation():\n",
    "    loo = sklearn.model_selection.LeaveOneOut()\n",
    "\n",
    "    # run on test data\n",
    "    test_results = []\n",
    "    train_results = []\n",
    "    for train_index, test_index in loo.split(X):\n",
    "        X_train, X_test = X[train_index], X[test_index]\n",
    "        Y_train, Y_test = Y[train_index], Y[test_index]\n",
    "\n",
    "        # build classifier for each set\n",
    "        clf = buildClf(X_train, Y_train)\n",
    "        \n",
    "        predicted = clf.predict(X_test)\n",
    "        test_accuracy = calcAccuracy(Y_test, predicted)\n",
    "        predicted = clf.predict(X_train)\n",
    "        train_accuracy = calcAccuracy(Y_train, predicted)\n",
    "#         print train_accuracy\n",
    "        test_results.append(test_accuracy)\n",
    "        train_results.append(train_accuracy)\n",
    "    \n",
    "#     return train_accuracy, test_accuracy\n",
    "    return np.mean(train_results, axis = 0), np.mean(test_results, axis = 0)\n",
    "    "
   ]
  },
  {
   "cell_type": "code",
   "execution_count": 121,
   "metadata": {
    "collapsed": false
   },
   "outputs": [],
   "source": [
    "# method to build classifier\n",
    "def buildClf(train_data, train_target):\n",
    "#     clf = DecisionTreeClassifier()\n",
    "#     clf = GaussianNB()\n",
    "#     clf = LogisticRegression()\n",
    "#     clf = SVC()\n",
    "#     clf = RandomForestClassifier(n_estimators = 50)\n",
    "#     clf = KNeighborsClassifier(10)\n",
    "#     clf = MultinomialNB()\n",
    "#     clf = BernoulliNB()\n",
    "#     clf = GaussianProcessClassifier()\n",
    "#     clf = AdaBoostClassifier(n_estimators =8)\n",
    "#     clf = GradientBoostingClassifier(n_estimators = 5)\n",
    "#     clf = QuadraticDiscriminantAnalysis()\n",
    "#     clf = MLPClassifier()\n",
    "#     clf = BaggingClassifier(QuadraticDiscriminantAnalysis(), max_samples=0.2, max_features=0.2)\n",
    "#     clf = BaggingClassifier(GaussianNB(), max_samples=0.7, max_features=0.8)\n",
    "\n",
    "\n",
    "    clf_1 = GaussianNB()\n",
    "#     clf_1 = BaggingClassifier(GaussianNB(), max_samples=0.7, max_features=0.8)\n",
    "    clf_2 = AdaBoostClassifier(n_estimators =8)\n",
    "    clf_3 = BernoulliNB()\n",
    "    clf = VotingClassifier(estimators=[('gnb', clf_1), ('ab', clf_2), ('bnb', clf_3)], voting='soft', weights = [1,2,1])\n",
    "#     clf = VotingClassifier(estimators=[('gnb', clf_1), ('ab', clf_2), ('bnb', clf_3)], voting='hard')\n",
    "    \n",
    "    clf.fit(train_data, train_target)\n",
    "    return clf"
   ]
  },
  {
   "cell_type": "code",
   "execution_count": 125,
   "metadata": {
    "collapsed": false
   },
   "outputs": [
    {
     "name": "stdout",
     "output_type": "stream",
     "text": [
      "-----Train-----\n",
      "Split by % Accuracy: 0.862068965517\n",
      "K-Fold Accuracy: 0.864920767306\n",
      "Leave-One-Out Accuracy: 0.867217689996\n",
      "-----Test-----\n",
      "Split by % Accuracy: 0.857142857143\n",
      "K-Fold Accuracy: 0.838624338624\n",
      "Leave-One-Out Accuracy: 0.839416058394\n"
     ]
    }
   ],
   "source": [
    "splitByPercentage_train, splitByPercentage_test = splitByPercentageValidation(0.85)\n",
    "kFold_train, kFold_test = kFoldValidation(5)\n",
    "loo_train, loo_test = looValidation()\n",
    "\n",
    "print \"-----Train-----\"\n",
    "print \"Split by % Accuracy: {}\".format(splitByPercentage_train)\n",
    "print \"K-Fold Accuracy: {}\".format(kFold_train)\n",
    "print \"Leave-One-Out Accuracy: {}\".format(loo_train)\n",
    "\n",
    "print \"-----Test-----\"\n",
    "print \"Split by % Accuracy: {}\".format(splitByPercentage_test)\n",
    "print \"K-Fold Accuracy: {}\".format(kFold_test)\n",
    "print \"Leave-One-Out Accuracy: {}\".format(loo_test)"
   ]
  },
  {
   "cell_type": "code",
   "execution_count": null,
   "metadata": {
    "collapsed": false
   },
   "outputs": [],
   "source": [
    "# visualize the decision tree\n",
    "# from: http://scikit-learn.org/stable/modules/tree.html\n",
    "\n",
    "# import pydotplus \n",
    "# dot_data = tree.export_graphviz(clf, out_file=None) \n",
    "# graph = pydotplus.graph_from_dot_data(dot_data) \n",
    "# graph.write_pdf(\"decision-tree.pdf\") \n"
   ]
  }
 ],
 "metadata": {
  "anaconda-cloud": {},
  "kernelspec": {
   "display_name": "Python [conda env:syde522]",
   "language": "python",
   "name": "conda-env-syde522-py"
  },
  "language_info": {
   "codemirror_mode": {
    "name": "ipython",
    "version": 2
   },
   "file_extension": ".py",
   "mimetype": "text/x-python",
   "name": "python",
   "nbconvert_exporter": "python",
   "pygments_lexer": "ipython2",
   "version": "2.7.13"
  }
 },
 "nbformat": 4,
 "nbformat_minor": 2
}
