{
 "cells": [
  {
   "cell_type": "code",
   "execution_count": 46,
   "metadata": {
    "collapsed": false
   },
   "outputs": [],
   "source": [
    "import numpy as np\n",
    "import pandas\n",
    "import sklearn\n",
    "from sklearn.metrics import accuracy_score\n",
    "from sklearn.metrics import confusion_matrix\n",
    "from sklearn.metrics import precision_score\n",
    "from sklearn.model_selection import train_test_split, KFold\n",
    "from sklearn.tree import DecisionTreeClassifier\n",
    "from sklearn.naive_bayes import GaussianNB\n",
    "from sklearn.linear_model import LogisticRegression\n",
    "from sklearn.svm import SVC\n",
    "from sklearn.ensemble import RandomForestClassifier, AdaBoostClassifier\n",
    "from sklearn.neighbors import KNeighborsClassifier\n",
    "from sklearn.naive_bayes import BernoulliNB\n",
    "from sklearn.naive_bayes import MultinomialNB\n",
    "from sklearn.neural_network import MLPClassifier\n",
    "from sklearn.gaussian_process import GaussianProcessClassifier\n",
    "from sklearn.discriminant_analysis import QuadraticDiscriminantAnalysis\n",
    "from sklearn.ensemble import GradientBoostingClassifier\n",
    "from sklearn.ensemble import BaggingClassifier"
   ]
  },
  {
   "cell_type": "code",
   "execution_count": 60,
   "metadata": {
    "collapsed": false
   },
   "outputs": [],
   "source": [
    "# import data from csv\n",
    "dataframe = pandas.read_csv('heart.csv',usecols = range(0,14), engine='python')\n",
    "dataset = dataframe.values"
   ]
  },
  {
   "cell_type": "code",
   "execution_count": 61,
   "metadata": {
    "collapsed": true
   },
   "outputs": [],
   "source": [
    "# shuffle dataset\n",
    "np.random.shuffle(dataset)\n",
    "\n",
    "# divide data (X) and targets (Y)\n",
    "X = np.delete(dataset, obj=13, axis=1)\n",
    "Y = dataset[:,13]\n",
    "\n",
    "# normalize data (X)\n",
    "X = sklearn.preprocessing.normalize(X, norm='l1', axis=0)\n"
   ]
  },
  {
   "cell_type": "code",
   "execution_count": 73,
   "metadata": {
    "collapsed": false
   },
   "outputs": [],
   "source": [
    "# method to calculate accuracy\n",
    "def calcAccuracy(actual, predicted):\n",
    "#     correct = 0\n",
    "#     for i in range(0, len(actual)):\n",
    "#         if actual[i] == predicted[i]:\n",
    "#             correct += 1\n",
    "#         print \"Actual: {0} Predicted: {1}\".format(actual[i], predicted[i])\n",
    "#     return precision_score(actual, predicted)\n",
    "#     return confusion_matrix(actual, predicted)\n",
    "    return accuracy_score(actual, predicted, normalize = True)\n",
    "\n",
    "\n",
    "# method to test train/test split by percentage\n",
    "def splitByPercentageValidation(train_size=0.7):\n",
    "    X_train, X_test, Y_train, Y_test = \\\n",
    "        train_test_split(X, Y, train_size = train_size, random_state=2017)\n",
    "\n",
    "    # run on test and train data\n",
    "    clf = buildClf(X_train, Y_train)\n",
    "    \n",
    "    predicted = clf.predict(X_test)    \n",
    "    test_accuracy = calcAccuracy(Y_test, predicted)\n",
    "    \n",
    "    predicted = clf.predict(X_train)\n",
    "    train_accuracy = calcAccuracy(Y_train, predicted)\n",
    "    \n",
    "    return train_accuracy, test_accuracy\n",
    "\n",
    "\n",
    "# method for k-fold cross validation\n",
    "def kFoldValidation(n_splits=10):\n",
    "    kFold = KFold(n_splits=n_splits)\n",
    "\n",
    "    # run on test data\n",
    "    test_results = []\n",
    "    train_results = []\n",
    "    for train_index, test_index in kFold.split(X):\n",
    "        X_train, X_test = X[train_index], X[test_index]\n",
    "        Y_train, Y_test = Y[train_index], Y[test_index]\n",
    "\n",
    "        # build classifier for each set\n",
    "        clf = buildClf(X_train, Y_train)\n",
    "        \n",
    "        predicted = clf.predict(X_test)\n",
    "        test_accuracy = calcAccuracy(Y_test, predicted)\n",
    "        \n",
    "        predicted = clf.predict(X_train)\n",
    "        train_accuracy = calcAccuracy(Y_train, predicted)\n",
    "        \n",
    "        test_results.append(test_accuracy)\n",
    "        train_results.append(train_accuracy)\n",
    "#     return train_accuracy, test_accuracy\n",
    "    return np.mean(train_results), np.mean(test_results)\n",
    "\n",
    "\n",
    "# method for leave one out cross validation\n",
    "def looValidation():\n",
    "    loo = sklearn.model_selection.LeaveOneOut()\n",
    "\n",
    "    # run on test data\n",
    "    test_results = []\n",
    "    train_results = []\n",
    "    for train_index, test_index in loo.split(X):\n",
    "        X_train, X_test = X[train_index], X[test_index]\n",
    "        Y_train, Y_test = Y[train_index], Y[test_index]\n",
    "\n",
    "        # build classifier for each set\n",
    "        clf = buildClf(X_train, Y_train)\n",
    "        \n",
    "        predicted = clf.predict(X_test)\n",
    "        test_accuracy = calcAccuracy(Y_test, predicted)\n",
    "        predicted = clf.predict(X_train)\n",
    "        train_accuracy = calcAccuracy(Y_train, predicted)\n",
    "        \n",
    "        test_results.append(test_accuracy)\n",
    "        train_results.append(train_accuracy)\n",
    "    \n",
    "#     return train_accuracy, test_accuracy\n",
    "    return np.mean(train_results), np.mean(test_results)\n",
    "    "
   ]
  },
  {
   "cell_type": "code",
   "execution_count": 77,
   "metadata": {
    "collapsed": false
   },
   "outputs": [],
   "source": [
    "# method to build classifier\n",
    "def buildClf(train_data, train_target):\n",
    "#     clf = DecisionTreeClassifier()\n",
    "#     clf = GaussianNB()\n",
    "#     clf = LogisticRegression()\n",
    "#     clf = SVC()\n",
    "#     clf = RandomForestClassifier()\n",
    "#     clf = KNeighborsClassifier(6)\n",
    "#     clf = MultinomialNB()\n",
    "#     clf = BernoulliNB()\n",
    "#     clf = GaussianProcessClassifier()\n",
    "#     clf = AdaBoostClassifier(n_estimators =30)\n",
    "#     clf = GradientBoostingClassifier(n_estimators = 100)\n",
    "#     clf = QuadraticDiscriminantAnalysis()\n",
    "#     clf = MLPClassifier()\n",
    "#     clf = BaggingClassifier(QuadraticDiscriminantAnalysis(), max_samples=0.2, max_features=0.2)\n",
    "    clf = BaggingClassifier(GaussianNB(), max_samples=0.2, max_features=0.2)\n",
    "    clf.fit(train_data, train_target)\n",
    "    return clf"
   ]
  },
  {
   "cell_type": "code",
   "execution_count": 78,
   "metadata": {
    "collapsed": false
   },
   "outputs": [
    {
     "name": "stdout",
     "output_type": "stream",
     "text": [
      "-----Train-----\n",
      "Split by % Accuracy: 85.5895196507%\n",
      "K-Fold Accuracy: 85.8847736626%\n",
      "Leave-One-Out Accuracy: 85.9066501446%\n",
      "-----Test-----\n",
      "Split by % Accuracy: 85.3658536585%\n",
      "K-Fold Accuracy: 83.3333333333%\n",
      "Leave-One-Out Accuracy: 83.7037037037%\n"
     ]
    }
   ],
   "source": [
    "splitByPercentage_train, splitByPercentage_test = splitByPercentageValidation(0.85)\n",
    "kFold_train, kFold_test = kFoldValidation(10)\n",
    "loo_train, loo_test = looValidation()\n",
    "\n",
    "print \"-----Train-----\"\n",
    "print \"Split by % Accuracy: {}%\".format(splitByPercentage_train*100)\n",
    "print \"K-Fold Accuracy: {}%\".format(kFold_train*100)\n",
    "print \"Leave-One-Out Accuracy: {}%\".format(loo_train*100)\n",
    "\n",
    "print \"-----Test-----\"\n",
    "print \"Split by % Accuracy: {}%\".format(splitByPercentage_test*100)\n",
    "print \"K-Fold Accuracy: {}%\".format(kFold_test*100)\n",
    "print \"Leave-One-Out Accuracy: {}%\".format(loo_test*100)"
   ]
  },
  {
   "cell_type": "code",
   "execution_count": null,
   "metadata": {
    "collapsed": false
   },
   "outputs": [],
   "source": [
    "# visualize the decision tree\n",
    "# from: http://scikit-learn.org/stable/modules/tree.html\n",
    "\n",
    "# import pydotplus \n",
    "# dot_data = tree.export_graphviz(clf, out_file=None) \n",
    "# graph = pydotplus.graph_from_dot_data(dot_data) \n",
    "# graph.write_pdf(\"decision-tree.pdf\") \n"
   ]
  }
 ],
 "metadata": {
  "anaconda-cloud": {},
  "kernelspec": {
   "display_name": "Python [conda env:syde522]",
   "language": "python",
   "name": "conda-env-syde522-py"
  },
  "language_info": {
   "codemirror_mode": {
    "name": "ipython",
    "version": 2
   },
   "file_extension": ".py",
   "mimetype": "text/x-python",
   "name": "python",
   "nbconvert_exporter": "python",
   "pygments_lexer": "ipython2",
   "version": "2.7.13"
  }
 },
 "nbformat": 4,
 "nbformat_minor": 2
}
