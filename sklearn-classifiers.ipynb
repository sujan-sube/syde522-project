{
 "cells": [
  {
   "cell_type": "code",
   "execution_count": 40,
   "metadata": {
    "collapsed": false
   },
   "outputs": [],
   "source": [
    "import numpy as np\n",
    "import pandas\n",
    "import sklearn\n",
    "from sklearn.model_selection import train_test_split, KFold\n",
    "\n",
    "# import data from csv\n",
    "dataframe = pandas.read_csv('heart.csv',usecols = range(0,14), engine='python')\n",
    "dataset = dataframe.values\n",
    "\n",
    "# shuffle dataset\n",
    "np.random.shuffle(dataset)\n",
    "\n",
    "# divide data (X) and targets (Y)\n",
    "X = np.delete(dataset, obj=13, axis=1)\n",
    "Y = dataset[:,13]\n",
    "\n",
    "# normalize data (X)\n",
    "X = sklearn.preprocessing.normalize(X, norm='max', axis=0)\n"
   ]
  },
  {
   "cell_type": "code",
   "execution_count": 41,
   "metadata": {
    "collapsed": false
   },
   "outputs": [],
   "source": [
    "# method to calculate accuracy\n",
    "def calcAccuracy(actual, predicted):\n",
    "    correct = 0\n",
    "    for i in range(0, len(actual)):\n",
    "        if actual[i] == predicted[i]:\n",
    "            correct += 1\n",
    "#         print \"Actual: {0} Predicted: {1}\".format(actual[i], predicted[i])\n",
    "    return float(correct)/len(actual)\n",
    "\n",
    "# build classifier\n",
    "def buildClf(train_data, train_target):\n",
    "#     clf = sklearn.tree.DecisionTreeClassifier()\n",
    "#     clf = sklearn.naive_bayes.GaussianNB()\n",
    "    clf = sklearn.linear_model.LogisticRegression()\n",
    "    clf.fit(train_data, train_target)\n",
    "    return clf"
   ]
  },
  {
   "cell_type": "code",
   "execution_count": 42,
   "metadata": {
    "collapsed": false
   },
   "outputs": [
    {
     "name": "stdout",
     "output_type": "stream",
     "text": [
      "Accuracy: 90.1234567901%\n"
     ]
    }
   ],
   "source": [
    "# split into train and test - 70/30\n",
    "X_train, X_test, Y_train, Y_test = \\\n",
    "    train_test_split(X, Y, train_size = 0.7, random_state=2017)\n",
    "\n",
    "# run on test data\n",
    "clf = buildClf(X_train, Y_train)\n",
    "predicted = clf.predict(X_test)    \n",
    "accuracy = calcAccuracy(Y_test, predicted)\n",
    "\n",
    "print \"Accuracy: {}%\".format(accuracy*100)"
   ]
  },
  {
   "cell_type": "code",
   "execution_count": 43,
   "metadata": {
    "collapsed": false
   },
   "outputs": [
    {
     "name": "stdout",
     "output_type": "stream",
     "text": [
      "Accuracy: 85.5555555556%\n"
     ]
    }
   ],
   "source": [
    "# k-fold cross validation\n",
    "kFold = KFold(n_splits=10)\n",
    "\n",
    "# run on test data\n",
    "results = []\n",
    "for train_index, test_index in kFold.split(X):\n",
    "    X_train, X_test = X[train_index], X[test_index]\n",
    "    Y_train, Y_test = Y[train_index], Y[test_index]\n",
    "    \n",
    "    # build classifier for each set\n",
    "    clf = buildClf(X_train, Y_train)\n",
    "    predicted = clf.predict(X_test)\n",
    "    accuracy = calcAccuracy(Y_test, predicted)\n",
    "    results.append(accuracy)\n",
    "    \n",
    "print \"Accuracy: {}%\".format(np.mean(results)*100)"
   ]
  },
  {
   "cell_type": "code",
   "execution_count": 44,
   "metadata": {
    "collapsed": false
   },
   "outputs": [
    {
     "name": "stdout",
     "output_type": "stream",
     "text": [
      "Accuracy: 85.1851851852%\n"
     ]
    }
   ],
   "source": [
    "# leave one out cross validation\n",
    "loo = sklearn.model_selection.LeaveOneOut()\n",
    "\n",
    "# run on test data\n",
    "results = []\n",
    "for train_index, test_index in loo.split(X):\n",
    "    X_train, X_test = X[train_index], X[test_index]\n",
    "    Y_train, Y_test = Y[train_index], Y[test_index]\n",
    "    \n",
    "    # build classifier for each set\n",
    "    clf = buildClf(X_train, Y_train)\n",
    "    predicted = clf.predict(X_test)\n",
    "    accuracy = calcAccuracy(Y_test, predicted)\n",
    "    results.append(accuracy)\n",
    "    \n",
    "print \"Accuracy: {}%\".format(np.mean(results)*100)"
   ]
  },
  {
   "cell_type": "code",
   "execution_count": 228,
   "metadata": {
    "collapsed": false
   },
   "outputs": [],
   "source": [
    "# visualize the decision tree\n",
    "# from: http://scikit-learn.org/stable/modules/tree.html\n",
    "\n",
    "# import pydotplus \n",
    "# dot_data = tree.export_graphviz(clf, out_file=None) \n",
    "# graph = pydotplus.graph_from_dot_data(dot_data) \n",
    "# graph.write_pdf(\"decision-tree.pdf\") \n"
   ]
  }
 ],
 "metadata": {
  "kernelspec": {
   "display_name": "Python 2",
   "language": "python",
   "name": "python2"
  },
  "language_info": {
   "codemirror_mode": {
    "name": "ipython",
    "version": 2
   },
   "file_extension": ".py",
   "mimetype": "text/x-python",
   "name": "python",
   "nbconvert_exporter": "python",
   "pygments_lexer": "ipython2",
   "version": "2.7.13"
  }
 },
 "nbformat": 4,
 "nbformat_minor": 2
}
