{
 "cells": [
  {
   "cell_type": "code",
   "execution_count": 26,
   "metadata": {
    "collapsed": true
   },
   "outputs": [],
   "source": [
    "from sklearn.manifold import TSNE\n",
    "import sklearn\n",
    "import pandas\n",
    "import matplotlib.pyplot as plt\n",
    "from mpl_toolkits.mplot3d import Axes3D\n",
    "import sklearn as sk\n",
    "import numpy as np"
   ]
  },
  {
   "cell_type": "code",
   "execution_count": 36,
   "metadata": {
    "collapsed": false
   },
   "outputs": [
    {
     "name": "stdout",
     "output_type": "stream",
     "text": [
      "[[ 70.   1.   4. ...,   2.   3.   3.]\n",
      " [ 67.   0.   3. ...,   2.   0.   7.]\n",
      " [ 57.   1.   2. ...,   1.   0.   7.]\n",
      " ..., \n",
      " [ 56.   0.   2. ...,   2.   0.   3.]\n",
      " [ 57.   1.   4. ...,   2.   0.   6.]\n",
      " [ 67.   1.   4. ...,   2.   3.   3.]]\n"
     ]
    }
   ],
   "source": [
    "dataframe = pandas.read_csv('heart.csv',usecols = range(0,13), engine='python')\n",
    "X = []\n",
    "X = dataframe.values\n",
    "# print dataset[0][1]\n",
    "# for i in dataset:\n",
    "# #     print i\n",
    "#     if(i[1] != 2):\n",
    "#         X.append(i)\n",
    "# X = dataframe.values\n",
    "# print X\n",
    "dataframe = pandas.read_csv('heart.csv',usecols = [13], engine='python')\n",
    "dataset = dataframe.values\n",
    "Y = []\n",
    "for i in dataset:\n",
    "    Y.append(i[0])"
   ]
  },
  {
   "cell_type": "code",
   "execution_count": 37,
   "metadata": {
    "collapsed": false
   },
   "outputs": [],
   "source": [
    "\n",
    "\n",
    "# scaler = sk.preprocessing.StandardScaler().fit(X)\n",
    "# X = scaler.transform(X)\n",
    "X = sk.preprocessing.normalize(X)\n"
   ]
  },
  {
   "cell_type": "code",
   "execution_count": 29,
   "metadata": {
    "collapsed": false
   },
   "outputs": [
    {
     "name": "stdout",
     "output_type": "stream",
     "text": [
      "[[ 0.18883519  0.00269765  0.01079058 ...,  0.00539529  0.00809294\n",
      "   0.00809294]\n",
      " [ 0.11143806  0.          0.00498976 ...,  0.00332651  0.          0.01164278]\n",
      " [ 0.17451353  0.00306164  0.00612328 ...,  0.00306164  0.          0.02143149]\n",
      " ..., \n",
      " [ 0.15378367  0.          0.00549227 ...,  0.00549227  0.          0.00823841]\n",
      " [ 0.1994493   0.00349911  0.01399644 ...,  0.00699822  0.          0.02099466]\n",
      " [ 0.1905785   0.00284446  0.01137782 ...,  0.00568891  0.00853337\n",
      "   0.00853337]]\n",
      "[[ 0.185531    0.          0.00883481 ...,  0.00294494  0.          0.00883481]\n",
      " [ 0.13566609  0.00308332  0.00924996 ...,  0.00308332  0.          0.00924996]\n",
      " [ 0.17236666  0.00344733  0.010342   ...,  0.00344733  0.          0.010342  ]\n",
      " ..., \n",
      " [ 0.19537262  0.00320283  0.00320283 ...,  0.00640566  0.00640566\n",
      "   0.00960849]\n",
      " [ 0.12947394  0.00294259  0.00588518 ...,  0.00294259  0.          0.02059813]\n",
      " [ 0.13766142  0.00312867  0.00625734 ...,  0.00312867  0.          0.00938601]]\n"
     ]
    }
   ],
   "source": [
    "\n",
    "# print X\n",
    "np.random.shuffle(X)\n",
    "\n",
    "# print X"
   ]
  },
  {
   "cell_type": "code",
   "execution_count": 38,
   "metadata": {
    "collapsed": false
   },
   "outputs": [],
   "source": [
    "# Split the Data into train and Test\n",
    "train_size = int(len(X) * 0.95)\n",
    "test_size = len(X) - train_size\n",
    "train_X, test_X = X[0:train_size], X[train_size:len(X)]\n",
    "train_Y, test_Y = Y[0:train_size], Y[train_size:len(Y)]\n",
    "# print len(train_X) \n",
    "# print len(test_X)\n",
    "# print len(X)"
   ]
  },
  {
   "cell_type": "code",
   "execution_count": 39,
   "metadata": {
    "collapsed": false
   },
   "outputs": [],
   "source": [
    "# Method to calculate the error\n",
    "def calError(predict, actual):\n",
    "    error = []\n",
    "    for i in range(len(predict)):\n",
    "        if(predict[i] == actual[i]):\n",
    "            error.append(1)\n",
    "    return 1-(float(len(actual) - len(error))/(float(len(actual))))"
   ]
  },
  {
   "cell_type": "code",
   "execution_count": 40,
   "metadata": {
    "collapsed": false
   },
   "outputs": [
    {
     "name": "stdout",
     "output_type": "stream",
     "text": [
      "0.5546875\n",
      "0.571428571429\n"
     ]
    }
   ],
   "source": [
    "# SVM\n",
    "from sklearn.svm import SVC\n",
    "\n",
    "model_SVM = SVC()\n",
    "model_SVM.fit(train_X,train_Y)\n",
    "\n",
    "predict_train_Y = model_SVM.predict(train_X)\n",
    "predict_test_Y = model_SVM.predict(test_X)\n",
    "\n",
    "print calError(predict_train_Y,train_Y) # Train Error\n",
    "print calError(predict_test_Y,test_Y)  # Test Error"
   ]
  },
  {
   "cell_type": "code",
   "execution_count": 41,
   "metadata": {
    "collapsed": false
   },
   "outputs": [
    {
     "name": "stdout",
     "output_type": "stream",
     "text": [
      "0.859375\n",
      "0.785714285714\n"
     ]
    }
   ],
   "source": [
    "# Naive Bayes with Guassian distribution\n",
    "from sklearn.naive_bayes import GaussianNB\n",
    "\n",
    "model_GuassNB = GaussianNB()\n",
    "model_GuassNB.fit(train_X, train_Y)\n",
    "\n",
    "predict_train_Y = model_GuassNB.predict(train_X)\n",
    "predict_test_Y = model_GuassNB.predict(test_X)\n",
    "\n",
    "print calError(predict_train_Y,train_Y) # Train Error\n",
    "print calError(predict_test_Y,test_Y)  # Test Error"
   ]
  },
  {
   "cell_type": "code",
   "execution_count": 42,
   "metadata": {
    "collapsed": false
   },
   "outputs": [
    {
     "name": "stdout",
     "output_type": "stream",
     "text": [
      "0.5546875\n",
      "0.571428571429\n"
     ]
    }
   ],
   "source": [
    "# Naive Bayes with multinomial distribution\n",
    "from sklearn.naive_bayes import MultinomialNB\n",
    "\n",
    "model_MultiNB = MultinomialNB()\n",
    "model_MultiNB.fit(train_X,train_Y)\n",
    "\n",
    "predict_train_Y = model_MultiNB.predict(train_X)\n",
    "predict_test_Y = model_MultiNB.predict(test_X)\n",
    "\n",
    "print calError(predict_train_Y,train_Y) # Train Error\n",
    "print calError(predict_test_Y,test_Y)  # Test Error"
   ]
  },
  {
   "cell_type": "code",
   "execution_count": 43,
   "metadata": {
    "collapsed": false
   },
   "outputs": [
    {
     "name": "stdout",
     "output_type": "stream",
     "text": [
      "0.80078125\n",
      "0.714285714286\n"
     ]
    }
   ],
   "source": [
    "# Naive Bayes with Bernoulli distribution\n",
    "from sklearn.naive_bayes import BernoulliNB\n",
    "\n",
    "model_BerNB = BernoulliNB()\n",
    "model_BerNB.fit(train_X,train_Y)\n",
    "\n",
    "predict_train_Y = model_BerNB.predict(train_X)\n",
    "predict_test_Y = model_BerNB.predict(test_X)\n",
    "\n",
    "print calError(predict_train_Y,train_Y) # Train Error\n",
    "print calError(predict_test_Y,test_Y)  # Test Error"
   ]
  }
 ],
 "metadata": {
  "anaconda-cloud": {},
  "kernelspec": {
   "display_name": "Python [conda env:syde522]",
   "language": "python",
   "name": "conda-env-syde522-py"
  },
  "language_info": {
   "codemirror_mode": {
    "name": "ipython",
    "version": 2
   },
   "file_extension": ".py",
   "mimetype": "text/x-python",
   "name": "python",
   "nbconvert_exporter": "python",
   "pygments_lexer": "ipython2",
   "version": "2.7.13"
  }
 },
 "nbformat": 4,
 "nbformat_minor": 2
}
