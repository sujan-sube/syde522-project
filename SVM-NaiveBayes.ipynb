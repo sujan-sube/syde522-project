{
 "cells": [
  {
   "cell_type": "code",
   "execution_count": 7,
   "metadata": {
    "collapsed": true
   },
   "outputs": [],
   "source": [
    "from sklearn.manifold import TSNE\n",
    "import sklearn\n",
    "import pandas\n",
    "import matplotlib.pyplot as plt\n",
    "from mpl_toolkits.mplot3d import Axes3D"
   ]
  },
  {
   "cell_type": "code",
   "execution_count": 11,
   "metadata": {
    "collapsed": false
   },
   "outputs": [
    {
     "name": "stdout",
     "output_type": "stream",
     "text": [
      "[[ 70.   1.   4. ...,   2.   3.   3.]\n",
      " [ 67.   0.   3. ...,   2.   0.   7.]\n",
      " [ 57.   1.   2. ...,   1.   0.   7.]\n",
      " ..., \n",
      " [ 56.   0.   2. ...,   2.   0.   3.]\n",
      " [ 57.   1.   4. ...,   2.   0.   6.]\n",
      " [ 67.   1.   4. ...,   2.   3.   3.]]\n"
     ]
    }
   ],
   "source": [
    "dataframe = pandas.read_csv('heart.csv',usecols = range(0,13), engine='python')\n",
    "X = []\n",
    "X = dataframe.values\n",
    "# print dataset[0][1]\n",
    "# for i in dataset:\n",
    "# #     print i\n",
    "#     if(i[1] != 2):\n",
    "#         X.append(i)\n",
    "# X = dataframe.values\n",
    "print X\n",
    "dataframe = pandas.read_csv('heart.csv',usecols = [13], engine='python')\n",
    "dataset = dataframe.values\n",
    "Y = []\n",
    "for i in dataset:\n",
    "    Y.append(i[0])"
   ]
  },
  {
   "cell_type": "code",
   "execution_count": 43,
   "metadata": {
    "collapsed": false
   },
   "outputs": [],
   "source": [
    "# Split the Data into train and Test\n",
    "train_size = int(len(X) * 0.7)\n",
    "test_size = len(X) - train_size\n",
    "train_X, test_X = X[0:train_size], X[train_size:len(X)]\n",
    "train_Y, test_Y = Y[0:train_size], Y[train_size:len(Y)]\n",
    "# print len(train_X) \n",
    "# print len(test_X)\n",
    "# print len(X)"
   ]
  },
  {
   "cell_type": "code",
   "execution_count": 44,
   "metadata": {
    "collapsed": false
   },
   "outputs": [],
   "source": [
    "# Method to calculate the error\n",
    "def calError(predict, actual):\n",
    "    error = []\n",
    "    for i in range(len(predict)):\n",
    "        if(predict[i] == actual[i]):\n",
    "            error.append(1)\n",
    "    return 1-(float(len(actual) - len(error))/(float(len(actual))))"
   ]
  },
  {
   "cell_type": "code",
   "execution_count": 46,
   "metadata": {
    "collapsed": false
   },
   "outputs": [
    {
     "name": "stdout",
     "output_type": "stream",
     "text": [
      "1.0\n",
      "0.58024691358\n"
     ]
    }
   ],
   "source": [
    "# SVM\n",
    "from sklearn.svm import SVC\n",
    "\n",
    "clf = SVC()\n",
    "clf.fit(train_X,train_Y)\n",
    "\n",
    "predict_train_Y = clf.predict(train_X)\n",
    "predict_test_Y = clf.predict(test_X)\n",
    "\n",
    "print calError(predict_train_Y,train_Y) # Train Error\n",
    "print calError(predict_test_Y,test_Y)  # Test Error"
   ]
  },
  {
   "cell_type": "code",
   "execution_count": 47,
   "metadata": {
    "collapsed": false
   },
   "outputs": [
    {
     "name": "stdout",
     "output_type": "stream",
     "text": [
      "1.0\n",
      "0.58024691358\n"
     ]
    }
   ],
   "source": [
    "# Naive Bayes with Guassian distribution\n",
    "from sklearn.naive_bayes import GaussianNB\n",
    "\n",
    "gnb = GaussianNB()\n",
    "gnb.fit(train_X, train_Y)\n",
    "\n",
    "predict_train_Y = clf.predict(train_X)\n",
    "predict_test_Y = clf.predict(test_X)\n",
    "\n",
    "print calError(predict_train_Y,train_Y) # Train Error\n",
    "print calError(predict_test_Y,test_Y)  # Test Error"
   ]
  },
  {
   "cell_type": "code",
   "execution_count": 48,
   "metadata": {
    "collapsed": false
   },
   "outputs": [
    {
     "name": "stdout",
     "output_type": "stream",
     "text": [
      "0.756613756614\n",
      "0.777777777778\n"
     ]
    }
   ],
   "source": [
    "# Naive Bayes with multinomial distribution\n",
    "from sklearn.naive_bayes import MultinomialNB\n",
    "\n",
    "model = MultinomialNB()\n",
    "model.fit(train_X,train_Y)\n",
    "\n",
    "predict_train_Y = model.predict(train_X)\n",
    "predict_test_Y = model.predict(test_X)\n",
    "\n",
    "print calError(predict_train_Y,train_Y) # Train Error\n",
    "print calError(predict_test_Y,test_Y)  # Test Error"
   ]
  },
  {
   "cell_type": "code",
   "execution_count": 49,
   "metadata": {
    "collapsed": false
   },
   "outputs": [
    {
     "name": "stdout",
     "output_type": "stream",
     "text": [
      "0.798941798942\n",
      "0.802469135802\n"
     ]
    }
   ],
   "source": [
    "# Naive Bayes with Bernoulli distribution\n",
    "from sklearn.naive_bayes import BernoulliNB\n",
    "\n",
    "model = BernoulliNB()\n",
    "model.fit(train_X,train_Y)\n",
    "\n",
    "predict_train_Y = model.predict(train_X)\n",
    "predict_test_Y = model.predict(test_X)\n",
    "\n",
    "print calError(predict_train_Y,train_Y) # Train Error\n",
    "print calError(predict_test_Y,test_Y)  # Test Error"
   ]
  }
 ],
 "metadata": {
  "anaconda-cloud": {},
  "kernelspec": {
   "display_name": "Python [conda env:syde522]",
   "language": "python",
   "name": "conda-env-syde522-py"
  },
  "language_info": {
   "codemirror_mode": {
    "name": "ipython",
    "version": 2
   },
   "file_extension": ".py",
   "mimetype": "text/x-python",
   "name": "python",
   "nbconvert_exporter": "python",
   "pygments_lexer": "ipython2",
   "version": "2.7.13"
  }
 },
 "nbformat": 4,
 "nbformat_minor": 2
}
