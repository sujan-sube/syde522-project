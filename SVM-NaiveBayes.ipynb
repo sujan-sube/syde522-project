{
 "cells": [
  {
   "cell_type": "code",
   "execution_count": 1,
   "metadata": {
    "collapsed": true
   },
   "outputs": [],
   "source": [
    "from sklearn.manifold import TSNE\n",
    "import sklearn\n",
    "import pandas\n",
    "import matplotlib.pyplot as plt\n",
    "from mpl_toolkits.mplot3d import Axes3D\n",
    "import sklearn as sk\n",
    "import numpy as np"
   ]
  },
  {
   "cell_type": "code",
   "execution_count": 2,
   "metadata": {
    "collapsed": false
   },
   "outputs": [],
   "source": [
    "# import data from csv\n",
    "dataframe = pandas.read_csv('heart.csv',usecols = range(0,14), engine='python')\n",
    "dataset = dataframe.values\n",
    "\n"
   ]
  },
  {
   "cell_type": "code",
   "execution_count": 3,
   "metadata": {
    "collapsed": false
   },
   "outputs": [],
   "source": [
    "# shuffle dataset\n",
    "np.random.shuffle(dataset)\n",
    "\n",
    "# divide data (X) and targets (Y)\n",
    "X = np.delete(dataset, obj=13, axis=1)\n",
    "Y = dataset[:,13]\n",
    "\n",
    "# normalize data (X)\n",
    "X = sklearn.preprocessing.normalize(X, norm='max', axis=0)"
   ]
  },
  {
   "cell_type": "code",
   "execution_count": 10,
   "metadata": {
    "collapsed": false
   },
   "outputs": [],
   "source": [
    "# Split the Data into train and Test\n",
    "train_size = int(len(X) * 0.88)\n",
    "test_size = len(X) - train_size\n",
    "train_X, test_X = X[0:train_size], X[train_size:len(X)]\n",
    "train_Y, test_Y = Y[0:train_size], Y[train_size:len(Y)]\n",
    "# print len(train_X) \n",
    "# print len(test_X)\n",
    "# print len(X)"
   ]
  },
  {
   "cell_type": "code",
   "execution_count": 5,
   "metadata": {
    "collapsed": false
   },
   "outputs": [],
   "source": [
    "# Method to calculate the error\n",
    "def calError(predict, actual):\n",
    "    error = []\n",
    "    for i in range(len(predict)):\n",
    "        if(predict[i] == actual[i]):\n",
    "            error.append(1)\n",
    "    return 1-(float(len(actual) - len(error))/(float(len(actual))))"
   ]
  },
  {
   "cell_type": "code",
   "execution_count": 7,
   "metadata": {
    "collapsed": false
   },
   "outputs": [
    {
     "name": "stdout",
     "output_type": "stream",
     "text": [
      "0.85546875\n",
      "0.785714285714\n"
     ]
    }
   ],
   "source": [
    "# SVM\n",
    "from sklearn.svm import SVC\n",
    "\n",
    "model_SVM = SVC()\n",
    "model_SVM.fit(train_X,train_Y)\n",
    "\n",
    "predict_train_Y = model_SVM.predict(train_X)\n",
    "predict_test_Y = model_SVM.predict(test_X)\n",
    "\n",
    "print calError(predict_train_Y,train_Y) # Train Error\n",
    "print calError(predict_test_Y,test_Y)  # Test Error"
   ]
  },
  {
   "cell_type": "code",
   "execution_count": 13,
   "metadata": {
    "collapsed": false
   },
   "outputs": [
    {
     "name": "stdout",
     "output_type": "stream",
     "text": [
      "0.869198312236\n",
      "0.818181818182\n"
     ]
    }
   ],
   "source": [
    "# Naive Bayes with Guassian distribution\n",
    "from sklearn.naive_bayes import GaussianNB\n",
    "\n",
    "model_GuassNB = GaussianNB()\n",
    "model_GuassNB.fit(train_X, train_Y)\n",
    "\n",
    "predict_train_Y = model_GuassNB.predict(train_X)\n",
    "predict_test_Y = model_GuassNB.predict(test_X)\n",
    "\n",
    "print calError(predict_train_Y,train_Y) # Train Error\n",
    "print calError(predict_test_Y,test_Y)  # Test Error"
   ]
  },
  {
   "cell_type": "code",
   "execution_count": 14,
   "metadata": {
    "collapsed": false
   },
   "outputs": [
    {
     "name": "stdout",
     "output_type": "stream",
     "text": [
      "0.7805907173\n",
      "0.69696969697\n"
     ]
    }
   ],
   "source": [
    "# Naive Bayes with multinomial distribution\n",
    "from sklearn.naive_bayes import MultinomialNB\n",
    "\n",
    "model_MultiNB = MultinomialNB()\n",
    "model_MultiNB.fit(train_X,train_Y)\n",
    "\n",
    "predict_train_Y = model_MultiNB.predict(train_X)\n",
    "predict_test_Y = model_MultiNB.predict(test_X)\n",
    "\n",
    "print calError(predict_train_Y,train_Y) # Train Error\n",
    "print calError(predict_test_Y,test_Y)  # Test Error"
   ]
  },
  {
   "cell_type": "code",
   "execution_count": 15,
   "metadata": {
    "collapsed": false
   },
   "outputs": [
    {
     "name": "stdout",
     "output_type": "stream",
     "text": [
      "0.805907172996\n",
      "0.757575757576\n"
     ]
    }
   ],
   "source": [
    "# Naive Bayes with Bernoulli distribution\n",
    "from sklearn.naive_bayes import BernoulliNB\n",
    "\n",
    "model_BerNB = BernoulliNB()\n",
    "model_BerNB.fit(train_X,train_Y)\n",
    "\n",
    "predict_train_Y = model_BerNB.predict(train_X)\n",
    "predict_test_Y = model_BerNB.predict(test_X)\n",
    "\n",
    "print calError(predict_train_Y,train_Y) # Train Error\n",
    "print calError(predict_test_Y,test_Y)  # Test Error"
   ]
  }
 ],
 "metadata": {
  "anaconda-cloud": {},
  "kernelspec": {
   "display_name": "Python [conda env:syde522]",
   "language": "python",
   "name": "conda-env-syde522-py"
  },
  "language_info": {
   "codemirror_mode": {
    "name": "ipython",
    "version": 2
   },
   "file_extension": ".py",
   "mimetype": "text/x-python",
   "name": "python",
   "nbconvert_exporter": "python",
   "pygments_lexer": "ipython2",
   "version": "2.7.13"
  }
 },
 "nbformat": 4,
 "nbformat_minor": 2
}
