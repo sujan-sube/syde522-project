{
 "cells": [
  {
   "cell_type": "code",
   "execution_count": 1,
   "metadata": {
    "collapsed": true
   },
   "outputs": [],
   "source": [
    "from sklearn.manifold import TSNE\n",
    "import sklearn\n",
    "import pandas\n",
    "import matplotlib.pyplot as plt\n",
    "from mpl_toolkits.mplot3d import Axes3D"
   ]
  },
  {
   "cell_type": "code",
   "execution_count": 2,
   "metadata": {
    "collapsed": false
   },
   "outputs": [
    {
     "name": "stdout",
     "output_type": "stream",
     "text": [
      "[[ 70.   1.   4. ...,   2.   3.   3.]\n",
      " [ 67.   0.   3. ...,   2.   0.   7.]\n",
      " [ 57.   1.   2. ...,   1.   0.   7.]\n",
      " ..., \n",
      " [ 56.   0.   2. ...,   2.   0.   3.]\n",
      " [ 57.   1.   4. ...,   2.   0.   6.]\n",
      " [ 67.   1.   4. ...,   2.   3.   3.]]\n"
     ]
    }
   ],
   "source": [
    "dataframe = pandas.read_csv('heart.csv',usecols = range(0,13), engine='python')\n",
    "X = []\n",
    "X = dataframe.values\n",
    "# print dataset[0][1]\n",
    "# for i in dataset:\n",
    "# #     print i\n",
    "#     if(i[1] != 2):\n",
    "#         X.append(i)\n",
    "# X = dataframe.values\n",
    "print X\n",
    "dataframe = pandas.read_csv('heart.csv',usecols = [13], engine='python')\n",
    "dataset = dataframe.values\n",
    "Y = []\n",
    "for i in dataset:\n",
    "    Y.append(i[0])"
   ]
  },
  {
   "cell_type": "code",
   "execution_count": 11,
   "metadata": {
    "collapsed": false
   },
   "outputs": [],
   "source": [
    "# Split the Data into train and Test\n",
    "train_size = int(len(X) * 0.85)\n",
    "test_size = len(X) - train_size\n",
    "train_X, test_X = X[0:train_size], X[train_size:len(X)]\n",
    "train_Y, test_Y = Y[0:train_size], Y[train_size:len(Y)]\n",
    "# print len(train_X) \n",
    "# print len(test_X)\n",
    "# print len(X)"
   ]
  },
  {
   "cell_type": "code",
   "execution_count": 4,
   "metadata": {
    "collapsed": false
   },
   "outputs": [],
   "source": [
    "# Method to calculate the error\n",
    "def calError(predict, actual):\n",
    "    error = []\n",
    "    for i in range(len(predict)):\n",
    "        if(predict[i] == actual[i]):\n",
    "            error.append(1)\n",
    "    return 1-(float(len(actual) - len(error))/(float(len(actual))))"
   ]
  },
  {
   "cell_type": "code",
   "execution_count": 17,
   "metadata": {
    "collapsed": false
   },
   "outputs": [
    {
     "name": "stdout",
     "output_type": "stream",
     "text": [
      "1.0\n",
      "0.560975609756\n"
     ]
    }
   ],
   "source": [
    "# SVM\n",
    "from sklearn.svm import SVC\n",
    "\n",
    "model_SVM = SVC()\n",
    "model_SVM.fit(train_X,train_Y)\n",
    "\n",
    "predict_train_Y = model_SVM.predict(train_X)\n",
    "predict_test_Y = model_SVM.predict(test_X)\n",
    "\n",
    "print calError(predict_train_Y,train_Y) # Train Error\n",
    "print calError(predict_test_Y,test_Y)  # Test Error"
   ]
  },
  {
   "cell_type": "code",
   "execution_count": 23,
   "metadata": {
    "collapsed": false
   },
   "outputs": [
    {
     "name": "stdout",
     "output_type": "stream",
     "text": [
      "0.868995633188\n",
      "0.829268292683\n"
     ]
    }
   ],
   "source": [
    "# Naive Bayes with Guassian distribution\n",
    "from sklearn.naive_bayes import GaussianNB\n",
    "\n",
    "model_GuassNB = GaussianNB()\n",
    "model_GuassNB.fit(train_X, train_Y)\n",
    "\n",
    "predict_train_Y = model_GuassNB.predict(train_X)\n",
    "predict_test_Y = model_GuassNB.predict(test_X)\n",
    "\n",
    "print calError(predict_train_Y,train_Y) # Train Error\n",
    "print calError(predict_test_Y,test_Y)  # Test Error"
   ]
  },
  {
   "cell_type": "code",
   "execution_count": 25,
   "metadata": {
    "collapsed": false
   },
   "outputs": [
    {
     "name": "stdout",
     "output_type": "stream",
     "text": [
      "0.772925764192\n",
      "0.731707317073\n"
     ]
    }
   ],
   "source": [
    "# Naive Bayes with multinomial distribution\n",
    "from sklearn.naive_bayes import MultinomialNB\n",
    "\n",
    "model_MultiNB = MultinomialNB()\n",
    "model_MultiNB.fit(train_X,train_Y)\n",
    "\n",
    "predict_train_Y = model_MultiNB.predict(train_X)\n",
    "predict_test_Y = model_MultiNB.predict(test_X)\n",
    "\n",
    "print calError(predict_train_Y,train_Y) # Train Error\n",
    "print calError(predict_test_Y,test_Y)  # Test Error"
   ]
  },
  {
   "cell_type": "code",
   "execution_count": 13,
   "metadata": {
    "collapsed": false
   },
   "outputs": [
    {
     "name": "stdout",
     "output_type": "stream",
     "text": [
      "0.794759825328\n",
      "0.756097560976\n"
     ]
    }
   ],
   "source": [
    "# Naive Bayes with Bernoulli distribution\n",
    "from sklearn.naive_bayes import BernoulliNB\n",
    "\n",
    "model = BernoulliNB()\n",
    "model.fit(train_X,train_Y)\n",
    "\n",
    "predict_train_Y = model.predict(train_X)\n",
    "predict_test_Y = model.predict(test_X)\n",
    "\n",
    "print calError(predict_train_Y,train_Y) # Train Error\n",
    "print calError(predict_test_Y,test_Y)  # Test Error"
   ]
  }
 ],
 "metadata": {
  "anaconda-cloud": {},
  "kernelspec": {
   "display_name": "Python [conda env:syde522]",
   "language": "python",
   "name": "conda-env-syde522-py"
  },
  "language_info": {
   "codemirror_mode": {
    "name": "ipython",
    "version": 2
   },
   "file_extension": ".py",
   "mimetype": "text/x-python",
   "name": "python",
   "nbconvert_exporter": "python",
   "pygments_lexer": "ipython2",
   "version": "2.7.13"
  }
 },
 "nbformat": 4,
 "nbformat_minor": 2
}
