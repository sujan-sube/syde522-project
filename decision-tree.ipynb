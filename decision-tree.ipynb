{
 "cells": [
  {
   "cell_type": "code",
   "execution_count": 69,
   "metadata": {
    "collapsed": false
   },
   "outputs": [
    {
     "name": "stdout",
     "output_type": "stream",
     "text": [
      "Test Data: 81\n",
      "Train Data: 189\n"
     ]
    }
   ],
   "source": [
    "import numpy as np\n",
    "import pandas\n",
    "from sklearn import tree\n",
    "\n",
    "# import data from csv\n",
    "dataframe = pandas.read_csv('heart.csv',usecols = range(0,13), engine='python')\n",
    "X = dataframe.values\n",
    "dataframe = pandas.read_csv('heart.csv',usecols = [13], engine='python')\n",
    "dataset = dataframe.values\n",
    "Y = []\n",
    "for i in dataset:\n",
    "    Y.append(i[0])\n",
    "\n",
    "# split data - 70%\n",
    "num_data = data.shape[0]\n",
    "split_at = int(num_data*0.7)\n",
    "\n",
    "# test data\n",
    "train_data = X[0:split_at]\n",
    "train_target = Y[0:split_at]\n",
    "\n",
    "# train data\n",
    "test_data = X[split_at:num_data]\n",
    "test_target = Y[split_at:num_data]\n",
    "\n",
    "print \"Test Data: {}\".format(test_data.shape[0])\n",
    "print \"Train Data: {}\".format(train_data.shape[0])\n"
   ]
  },
  {
   "cell_type": "code",
   "execution_count": 70,
   "metadata": {
    "collapsed": false
   },
   "outputs": [
    {
     "data": {
      "text/plain": [
       "DecisionTreeClassifier(class_weight=None, criterion='gini', max_depth=None,\n",
       "            max_features=None, max_leaf_nodes=None,\n",
       "            min_impurity_split=1e-07, min_samples_leaf=1,\n",
       "            min_samples_split=2, min_weight_fraction_leaf=0.0,\n",
       "            presort=False, random_state=None, splitter='best')"
      ]
     },
     "execution_count": 70,
     "metadata": {},
     "output_type": "execute_result"
    }
   ],
   "source": [
    "# build classifier\n",
    "clf = tree.DecisionTreeClassifier()\n",
    "clf.fit(train_data, train_target)\n"
   ]
  },
  {
   "cell_type": "code",
   "execution_count": 71,
   "metadata": {
    "collapsed": false
   },
   "outputs": [
    {
     "name": "stdout",
     "output_type": "stream",
     "text": [
      "Accuracy: 80.2469135802%\n"
     ]
    }
   ],
   "source": [
    "# run on test data\n",
    "predicted = clf.predict(test_data)\n",
    "\n",
    "correct = 0\n",
    "for i in range(0, len(test_data)):\n",
    "    if test_target[i] == predicted[i]:\n",
    "        correct += 1\n",
    "#     print \"Actual: {0} Predicted: {1}\".format(test_target[i], predicted[i])\n",
    "    \n",
    "    \n",
    "print \"Accuracy: {}%\".format(float(correct)/len(test_data)*100)"
   ]
  }
 ],
 "metadata": {
  "kernelspec": {
   "display_name": "Python 2",
   "language": "python",
   "name": "python2"
  },
  "language_info": {
   "codemirror_mode": {
    "name": "ipython",
    "version": 2
   },
   "file_extension": ".py",
   "mimetype": "text/x-python",
   "name": "python",
   "nbconvert_exporter": "python",
   "pygments_lexer": "ipython2",
   "version": "2.7.13"
  }
 },
 "nbformat": 4,
 "nbformat_minor": 2
}
